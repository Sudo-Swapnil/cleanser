{
 "cells": [
  {
   "cell_type": "code",
   "execution_count": 3,
   "metadata": {},
   "outputs": [],
   "source": [
    "import openai"
   ]
  },
  {
   "cell_type": "code",
   "execution_count": 114,
   "metadata": {},
   "outputs": [
    {
     "data": {
      "text/html": [
       "<div>\n",
       "<style scoped>\n",
       "    .dataframe tbody tr th:only-of-type {\n",
       "        vertical-align: middle;\n",
       "    }\n",
       "\n",
       "    .dataframe tbody tr th {\n",
       "        vertical-align: top;\n",
       "    }\n",
       "\n",
       "    .dataframe thead th {\n",
       "        text-align: right;\n",
       "    }\n",
       "</style>\n",
       "<table border=\"1\" class=\"dataframe\">\n",
       "  <thead>\n",
       "    <tr style=\"text-align: right;\">\n",
       "      <th></th>\n",
       "      <th>Name</th>\n",
       "      <th>Address</th>\n",
       "      <th>Email</th>\n",
       "      <th>Phone Number</th>\n",
       "      <th>Date</th>\n",
       "      <th>Salary</th>\n",
       "      <th>Company</th>\n",
       "      <th>Messy Text</th>\n",
       "    </tr>\n",
       "  </thead>\n",
       "  <tbody>\n",
       "    <tr>\n",
       "      <th>0</th>\n",
       "      <td>Emma Davis</td>\n",
       "      <td>327 Broadway, New York, NY</td>\n",
       "      <td>emmadavis83@outlook.com</td>\n",
       "      <td>123.456.7890</td>\n",
       "      <td>01-02-2024</td>\n",
       "      <td>500000.0</td>\n",
       "      <td>Facebook</td>\n",
       "      <td>Can yu pleas clarrify ur qustion?</td>\n",
       "    </tr>\n",
       "    <tr>\n",
       "      <th>1</th>\n",
       "      <td>John Doe</td>\n",
       "      <td>927 1st Ave, Los Angeles, CA</td>\n",
       "      <td>johndoe54@invalid</td>\n",
       "      <td>123-456-7890</td>\n",
       "      <td>Feb 1, 2024</td>\n",
       "      <td>55000.0</td>\n",
       "      <td>Amazon Corp.</td>\n",
       "      <td>Can yu pleas clarrify ur qustion?</td>\n",
       "    </tr>\n",
       "    <tr>\n",
       "      <th>2</th>\n",
       "      <td>John Doe</td>\n",
       "      <td>354 Market St, Austin, TX</td>\n",
       "      <td>johndoe44@gmail.com</td>\n",
       "      <td>123-456-7890</td>\n",
       "      <td>1st Feb 2024</td>\n",
       "      <td>500000.0</td>\n",
       "      <td>Microsoft</td>\n",
       "      <td>Can yu pleas clarrify ur qustion?</td>\n",
       "    </tr>\n",
       "    <tr>\n",
       "      <th>3</th>\n",
       "      <td>Emily Johnson</td>\n",
       "      <td>112 Elm St, Los Angeles, CA</td>\n",
       "      <td>emilyjohnson14@outlook.com</td>\n",
       "      <td>(123) 456-7890</td>\n",
       "      <td>2024/02/01</td>\n",
       "      <td>150000.0</td>\n",
       "      <td>Apple</td>\n",
       "      <td>I lovee to wrk at google!</td>\n",
       "    </tr>\n",
       "    <tr>\n",
       "      <th>4</th>\n",
       "      <td>James White</td>\n",
       "      <td>337 Broadway, Austin, TX</td>\n",
       "      <td>jameswhite82@outlook.com</td>\n",
       "      <td>(123) 456-7890</td>\n",
       "      <td>Feb 1, 2024</td>\n",
       "      <td>500000.0</td>\n",
       "      <td>Amazon</td>\n",
       "      <td>tesla is a great cmpany but I wud prefer Meta.</td>\n",
       "    </tr>\n",
       "  </tbody>\n",
       "</table>\n",
       "</div>"
      ],
      "text/plain": [
       "            Name                       Address                       Email  \\\n",
       "0     Emma Davis    327 Broadway, New York, NY     emmadavis83@outlook.com   \n",
       "1       John Doe  927 1st Ave, Los Angeles, CA           johndoe54@invalid   \n",
       "2       John Doe     354 Market St, Austin, TX         johndoe44@gmail.com   \n",
       "3  Emily Johnson   112 Elm St, Los Angeles, CA  emilyjohnson14@outlook.com   \n",
       "4    James White      337 Broadway, Austin, TX    jameswhite82@outlook.com   \n",
       "\n",
       "     Phone Number          Date    Salary       Company  \\\n",
       "0    123.456.7890    01-02-2024  500000.0      Facebook   \n",
       "1    123-456-7890   Feb 1, 2024   55000.0  Amazon Corp.   \n",
       "2    123-456-7890  1st Feb 2024  500000.0     Microsoft   \n",
       "3  (123) 456-7890    2024/02/01  150000.0         Apple   \n",
       "4  (123) 456-7890   Feb 1, 2024  500000.0        Amazon   \n",
       "\n",
       "                                       Messy Text  \n",
       "0               Can yu pleas clarrify ur qustion?  \n",
       "1               Can yu pleas clarrify ur qustion?  \n",
       "2               Can yu pleas clarrify ur qustion?  \n",
       "3                       I lovee to wrk at google!  \n",
       "4  tesla is a great cmpany but I wud prefer Meta.  "
      ]
     },
     "execution_count": 114,
     "metadata": {},
     "output_type": "execute_result"
    }
   ],
   "source": [
    "import pandas as pd\n",
    "\n",
    "df = pd.read_csv(\"synthetic_data.csv\")\n",
    "\n",
    "df = df.map(lambda x: x.strip() if isinstance(x, str) else x)\n",
    "df.drop_duplicates(inplace=True)\n",
    "df = df.head()\n",
    "df.head()"
   ]
  },
  {
   "cell_type": "code",
   "execution_count": 75,
   "metadata": {},
   "outputs": [],
   "source": [
    "df['Date'] = pd.to_datetime(df['Date'], errors='coerce')"
   ]
  },
  {
   "cell_type": "code",
   "execution_count": null,
   "metadata": {},
   "outputs": [],
   "source": [
    "def resolve_entity(text):\n",
    "    prompt = f\"Resolve entity variations to a standardized form: {text}\"\n",
    "    response = openai.ChatCompletion.create(\n",
    "        model=\"gpt-4o-mini\",\n",
    "        messages=[{\"role\": \"system\", \"content\": prompt}]\n",
    "    )\n",
    "    return response[\"choices\"][0][\"message\"][\"content\"]\n",
    "\n",
    "df['standardized_company'] = df['company_name'].apply(resolve_entity)\n"
   ]
  },
  {
   "cell_type": "code",
   "execution_count": 6,
   "metadata": {},
   "outputs": [],
   "source": [
    "from dotenv import load_dotenv\n",
    "\n",
    "load_dotenv()\n",
    "\n",
    "import os\n",
    "from openai import OpenAI\n",
    "client = OpenAI(api_key=os.environ.get(\"OPENAI_API_KEY\"))"
   ]
  },
  {
   "cell_type": "code",
   "execution_count": 76,
   "metadata": {},
   "outputs": [],
   "source": [
    "column_name = \"company\"\n",
    "column_information = \"name of the company\"\n",
    "\n",
    "text = \"nvidia corp\"\n",
    "# text = \"Bajaj allimc\""
   ]
  },
  {
   "cell_type": "code",
   "execution_count": null,
   "metadata": {},
   "outputs": [],
   "source": [
    "prompt = f\"\"\"I am giving you text field from the column titled {column_name}. \n",
    "            It contains inform about {column_information} \n",
    "            Resolve it to to a standardized form but do not modify if you are not sure of the format\n",
    "            for the specific data: {text}. \n",
    "            Give no preambles, just the result.\"\"\"\n",
    "response = client.chat.completions.create(\n",
    "    model=\"gpt-4o-mini\",\n",
    "    messages=[\n",
    "        {\n",
    "            \"role\": \"system\",\n",
    "            \"content\": prompt\n",
    "        }\n",
    "    ]\n",
    ")"
   ]
  },
  {
   "cell_type": "code",
   "execution_count": 40,
   "metadata": {},
   "outputs": [
    {
     "data": {
      "text/plain": [
       "'Nvidia Corporation'"
      ]
     },
     "execution_count": 40,
     "metadata": {},
     "output_type": "execute_result"
    }
   ],
   "source": [
    "response.choices[0].message.content"
   ]
  },
  {
   "cell_type": "code",
   "execution_count": 32,
   "metadata": {},
   "outputs": [
    {
     "data": {
      "text/plain": [
       "'Swapnil Financials'"
      ]
     },
     "execution_count": 32,
     "metadata": {},
     "output_type": "execute_result"
    }
   ],
   "source": [
    "response.choices[0].message.content"
   ]
  },
  {
   "cell_type": "code",
   "execution_count": 46,
   "metadata": {},
   "outputs": [],
   "source": [
    "def standardize_column(text, column_name, column_information):\n",
    "    prompt = f\"\"\"I am giving you text field from the column titled {column_name}. \n",
    "                It contains inform about {column_information} \n",
    "                Resolve it to to a standardized form but do not modify if you are not sure of the format\n",
    "                for the specific data: {text}. \n",
    "                Give no preambles, just the result.\"\"\"\n",
    "    response = client.chat.completions.create(\n",
    "        model=\"gpt-4o-mini\",\n",
    "        messages=[\n",
    "            {\n",
    "                \"role\": \"system\",\n",
    "                \"content\": prompt\n",
    "            }\n",
    "        ]   \n",
    "    )\n",
    "    return response.choices[0].message.content"
   ]
  },
  {
   "cell_type": "code",
   "execution_count": 47,
   "metadata": {},
   "outputs": [],
   "source": [
    "column_name = \"company\"\n",
    "column_information = \"name of the company\"\n",
    "df['standardized_company'] = df['Company'].apply(standardize_column, args=(column_name, column_information))"
   ]
  },
  {
   "cell_type": "code",
   "execution_count": 48,
   "metadata": {},
   "outputs": [
    {
     "data": {
      "text/plain": [
       "0           Facebook, Inc.\n",
       "1       Amazon Corporation\n",
       "2    Microsoft Corporation\n",
       "3               Apple Inc.\n",
       "4                   Amazon\n",
       "Name: standardized_company, dtype: object"
      ]
     },
     "execution_count": 48,
     "metadata": {},
     "output_type": "execute_result"
    }
   ],
   "source": [
    "df['standardized_company']"
   ]
  },
  {
   "cell_type": "code",
   "execution_count": 49,
   "metadata": {},
   "outputs": [
    {
     "data": {
      "text/plain": [
       "0        Facebook\n",
       "1    Amazon Corp.\n",
       "2       Microsoft\n",
       "3           Apple\n",
       "4          Amazon\n",
       "Name: Company, dtype: object"
      ]
     },
     "execution_count": 49,
     "metadata": {},
     "output_type": "execute_result"
    }
   ],
   "source": [
    "df['Company']"
   ]
  },
  {
   "cell_type": "markdown",
   "metadata": {},
   "source": [
    "# Class to identify PII and mask it"
   ]
  },
  {
   "cell_type": "code",
   "execution_count": 116,
   "metadata": {},
   "outputs": [],
   "source": [
    "import re\n",
    "import hashlib\n",
    "\n",
    "class PII:\n",
    "    def __init__(self, df):\n",
    "        self.pii_cols = None\n",
    "        self.df = df\n",
    "        pass\n",
    "\n",
    "    def identify_pii(self):        \n",
    "        column_name = self.df.columns.values\n",
    "\n",
    "        prompt = f\"\"\"Here is a list of of columns present in my data: {column_name}. \n",
    "                    Your goal is to identify columns which could potentially contain PII data. \n",
    "                    From the given list of columns I shared, return the column names which could have PII. \n",
    "                    Give the result in the form of Python string (no individual quotes for strings), seperated by comma in the exact case as the original column names I gave\n",
    "                    No preamble\"\"\"\n",
    "        response = client.chat.completions.create(\n",
    "            model=\"gpt-4o-mini\",\n",
    "            messages=[\n",
    "                {\n",
    "                    \"role\": \"system\",\n",
    "                    \"content\": prompt\n",
    "                }\n",
    "            ]   \n",
    "        )\n",
    "        self.pii_cols = response.choices[0].message.content.split(\", \")\n",
    "        return self.pii_cols\n",
    "    \n",
    "\n",
    "    def mask_pii(self):\n",
    "        if self.pii_cols is None:\n",
    "            raise ValueError(\"No PII columns identified. Run `identify_pii` first.\")\n",
    "\n",
    "        def mask_value(value, field_type):\n",
    "            if pd.isna(value):  # Handle NaNs\n",
    "                return value\n",
    "\n",
    "            value = str(value)  \n",
    "\n",
    "            if field_type == \"email\":\n",
    "                parts = value.split(\"@\")\n",
    "                return parts[0][0] + \"*****@\" + parts[1] if len(parts) > 1 else \"*****\"\n",
    "\n",
    "            elif field_type == \"phone\":\n",
    "                value = re.sub(r'\\D', '', value)\n",
    "                return re.sub(r\"(\\d{2})\\d{6}(\\d{2})\", r\"\\1******\\2\", value)  # Keep first & last 2 digits\n",
    "\n",
    "            elif field_type in [\"ssn\", \"passport\", \"credit_card\"]:\n",
    "                return \"****-****-****-\" + value[-4:]  # Keep last 4 digits\n",
    "\n",
    "            elif field_type == \"home_address\":\n",
    "                parts = value.split(\",\")\n",
    "                if len(parts) >= 3:\n",
    "                    return \"**** \" + parts[0].split()[1] + \", \" + \", \".join(parts[1:])  # Mask house number\n",
    "                return \"**** \" + value\n",
    "\n",
    "            elif field_type == \"name\":\n",
    "                return value[0] + \"****\"  # Keep first letter only\n",
    "\n",
    "            elif field_type == \"hash\":\n",
    "                return hashlib.sha256(value.encode()).hexdigest()  # Irreversible hashing\n",
    "\n",
    "            else:\n",
    "                return \"*****\"  # Default fully redact\n",
    "        \n",
    "        # Define common patterns to infer PII type\n",
    "        column_patterns = {\n",
    "            \"email\": [\"email\", \"e-mail\"],\n",
    "            \"phone\": [\"phone\", \"mobile\", \"contact\", 'phone number'],\n",
    "            \"ssn\": [\"ssn\", \"social security\", \"social security number\"],\n",
    "            \"passport\": [\"passport\"],\n",
    "            \"credit_card\": [\"card number\", \"credit\", \"debit\"],\n",
    "            \"home_address\": [\"address\", \"street\", \"residence\"],\n",
    "            \"name\": [\"name\", \"full name\"],\n",
    "            \"hash\": [\"token\", \"unique_id\"]\n",
    "        }\n",
    "\n",
    "        def infer_pii_type(col_name):\n",
    "            \"\"\"Infer the type of PII based on column name patterns\"\"\"\n",
    "            col_lower = col_name.lower()\n",
    "            for pii_type, patterns in column_patterns.items():\n",
    "                if any(pattern in col_lower for pattern in patterns):\n",
    "                    return pii_type\n",
    "            return \"default\"\n",
    "\n",
    "\n",
    "        for col in self.pii_cols:\n",
    "            pii_type = infer_pii_type(col)\n",
    "            self.df[col] = self.df[col].apply(lambda x: mask_value(x, pii_type))\n",
    "\n",
    "        return self.df\n",
    "    \n",
    "    def exclude_columns(self, columns):\n",
    "        for column in columns:\n",
    "            self.pii_cols.remove(column)   \n",
    "    "
   ]
  },
  {
   "cell_type": "code",
   "execution_count": 103,
   "metadata": {},
   "outputs": [
    {
     "data": {
      "text/plain": [
       "array(['Name', 'Address', 'Email', 'Phone Number', 'Date', 'Salary',\n",
       "       'Company', 'Messy Text'], dtype=object)"
      ]
     },
     "execution_count": 103,
     "metadata": {},
     "output_type": "execute_result"
    }
   ],
   "source": [
    "pii = PII()\n",
    "df.columns.values"
   ]
  },
  {
   "cell_type": "code",
   "execution_count": 104,
   "metadata": {},
   "outputs": [],
   "source": [
    "res = pii.identify_pii(column_name=df.columns.values)"
   ]
  },
  {
   "cell_type": "code",
   "execution_count": 105,
   "metadata": {},
   "outputs": [
    {
     "data": {
      "text/plain": [
       "['Name', 'Address', 'Email', 'Phone Number', 'Salary']"
      ]
     },
     "execution_count": 105,
     "metadata": {},
     "output_type": "execute_result"
    }
   ],
   "source": [
    "res"
   ]
  },
  {
   "cell_type": "code",
   "execution_count": 117,
   "metadata": {},
   "outputs": [
    {
     "name": "stdout",
     "output_type": "stream",
     "text": [
      "['Name', 'Address', 'Email', 'Phone Number', 'Salary']\n"
     ]
    }
   ],
   "source": [
    "pii_processor = PII(df)\n",
    "print(pii_processor.identify_pii())  # Identifies PII columns"
   ]
  },
  {
   "cell_type": "code",
   "execution_count": 118,
   "metadata": {},
   "outputs": [
    {
     "data": {
      "text/plain": [
       "['Name', 'Address', 'Email', 'Phone Number', 'Salary']"
      ]
     },
     "execution_count": 118,
     "metadata": {},
     "output_type": "execute_result"
    }
   ],
   "source": [
    "pii_processor.pii_cols"
   ]
  },
  {
   "cell_type": "code",
   "execution_count": 119,
   "metadata": {},
   "outputs": [],
   "source": [
    "pii_processor.exclude_columns(columns=['Salary'])"
   ]
  },
  {
   "cell_type": "code",
   "execution_count": 121,
   "metadata": {},
   "outputs": [],
   "source": [
    "masked_df = pii_processor.mask_pii()  # Masks PII data"
   ]
  },
  {
   "cell_type": "code",
   "execution_count": 122,
   "metadata": {},
   "outputs": [
    {
     "data": {
      "text/html": [
       "<div>\n",
       "<style scoped>\n",
       "    .dataframe tbody tr th:only-of-type {\n",
       "        vertical-align: middle;\n",
       "    }\n",
       "\n",
       "    .dataframe tbody tr th {\n",
       "        vertical-align: top;\n",
       "    }\n",
       "\n",
       "    .dataframe thead th {\n",
       "        text-align: right;\n",
       "    }\n",
       "</style>\n",
       "<table border=\"1\" class=\"dataframe\">\n",
       "  <thead>\n",
       "    <tr style=\"text-align: right;\">\n",
       "      <th></th>\n",
       "      <th>Name</th>\n",
       "      <th>Address</th>\n",
       "      <th>Email</th>\n",
       "      <th>Phone Number</th>\n",
       "      <th>Date</th>\n",
       "      <th>Salary</th>\n",
       "      <th>Company</th>\n",
       "      <th>Messy Text</th>\n",
       "    </tr>\n",
       "  </thead>\n",
       "  <tbody>\n",
       "    <tr>\n",
       "      <th>0</th>\n",
       "      <td>E****</td>\n",
       "      <td>**** Broadway,  New York,  NY</td>\n",
       "      <td>e*****@outlook.com</td>\n",
       "      <td>12******90</td>\n",
       "      <td>01-02-2024</td>\n",
       "      <td>500000.0</td>\n",
       "      <td>Facebook</td>\n",
       "      <td>Can yu pleas clarrify ur qustion?</td>\n",
       "    </tr>\n",
       "    <tr>\n",
       "      <th>1</th>\n",
       "      <td>J****</td>\n",
       "      <td>**** 1st,  Los Angeles,  CA</td>\n",
       "      <td>j*****@invalid</td>\n",
       "      <td>12******90</td>\n",
       "      <td>Feb 1, 2024</td>\n",
       "      <td>55000.0</td>\n",
       "      <td>Amazon Corp.</td>\n",
       "      <td>Can yu pleas clarrify ur qustion?</td>\n",
       "    </tr>\n",
       "    <tr>\n",
       "      <th>2</th>\n",
       "      <td>J****</td>\n",
       "      <td>**** Market,  Austin,  TX</td>\n",
       "      <td>j*****@gmail.com</td>\n",
       "      <td>12******90</td>\n",
       "      <td>1st Feb 2024</td>\n",
       "      <td>500000.0</td>\n",
       "      <td>Microsoft</td>\n",
       "      <td>Can yu pleas clarrify ur qustion?</td>\n",
       "    </tr>\n",
       "    <tr>\n",
       "      <th>3</th>\n",
       "      <td>E****</td>\n",
       "      <td>**** Elm,  Los Angeles,  CA</td>\n",
       "      <td>e*****@outlook.com</td>\n",
       "      <td>12******90</td>\n",
       "      <td>2024/02/01</td>\n",
       "      <td>150000.0</td>\n",
       "      <td>Apple</td>\n",
       "      <td>I lovee to wrk at google!</td>\n",
       "    </tr>\n",
       "    <tr>\n",
       "      <th>4</th>\n",
       "      <td>J****</td>\n",
       "      <td>**** Broadway,  Austin,  TX</td>\n",
       "      <td>j*****@outlook.com</td>\n",
       "      <td>12******90</td>\n",
       "      <td>Feb 1, 2024</td>\n",
       "      <td>500000.0</td>\n",
       "      <td>Amazon</td>\n",
       "      <td>tesla is a great cmpany but I wud prefer Meta.</td>\n",
       "    </tr>\n",
       "  </tbody>\n",
       "</table>\n",
       "</div>"
      ],
      "text/plain": [
       "    Name                        Address               Email Phone Number  \\\n",
       "0  E****  **** Broadway,  New York,  NY  e*****@outlook.com   12******90   \n",
       "1  J****    **** 1st,  Los Angeles,  CA      j*****@invalid   12******90   \n",
       "2  J****      **** Market,  Austin,  TX    j*****@gmail.com   12******90   \n",
       "3  E****    **** Elm,  Los Angeles,  CA  e*****@outlook.com   12******90   \n",
       "4  J****    **** Broadway,  Austin,  TX  j*****@outlook.com   12******90   \n",
       "\n",
       "           Date    Salary       Company  \\\n",
       "0    01-02-2024  500000.0      Facebook   \n",
       "1   Feb 1, 2024   55000.0  Amazon Corp.   \n",
       "2  1st Feb 2024  500000.0     Microsoft   \n",
       "3    2024/02/01  150000.0         Apple   \n",
       "4   Feb 1, 2024  500000.0        Amazon   \n",
       "\n",
       "                                       Messy Text  \n",
       "0               Can yu pleas clarrify ur qustion?  \n",
       "1               Can yu pleas clarrify ur qustion?  \n",
       "2               Can yu pleas clarrify ur qustion?  \n",
       "3                       I lovee to wrk at google!  \n",
       "4  tesla is a great cmpany but I wud prefer Meta.  "
      ]
     },
     "execution_count": 122,
     "metadata": {},
     "output_type": "execute_result"
    }
   ],
   "source": [
    "masked_df.head()"
   ]
  },
  {
   "cell_type": "code",
   "execution_count": 71,
   "metadata": {},
   "outputs": [
    {
     "name": "stdout",
     "output_type": "stream",
     "text": [
      "        phone_number cleaned_phone_number\n",
      "0     (123) 456-7890           1234567890\n",
      "1       987-654-3210           9876543210\n",
      "2       123.456.7890           1234567890\n",
      "3  +1 (800) 555-1212          18005551212\n"
     ]
    }
   ],
   "source": [
    "import pandas as pd\n",
    "import re\n",
    "\n",
    "# Sample DataFrame\n",
    "df = pd.DataFrame({'phone_number': ['(123) 456-7890', '987-654-3210', '123.456.7890', '+1 (800) 555-1212']})\n",
    "\n",
    "# Extract only digits\n",
    "df['cleaned_phone_number'] = df['phone_number'].str.replace(r'\\D', '', regex=True)\n",
    "\n",
    "print(df)\n"
   ]
  },
  {
   "cell_type": "code",
   "execution_count": 113,
   "metadata": {},
   "outputs": [
    {
     "data": {
      "text/html": [
       "<div>\n",
       "<style scoped>\n",
       "    .dataframe tbody tr th:only-of-type {\n",
       "        vertical-align: middle;\n",
       "    }\n",
       "\n",
       "    .dataframe tbody tr th {\n",
       "        vertical-align: top;\n",
       "    }\n",
       "\n",
       "    .dataframe thead th {\n",
       "        text-align: right;\n",
       "    }\n",
       "</style>\n",
       "<table border=\"1\" class=\"dataframe\">\n",
       "  <thead>\n",
       "    <tr style=\"text-align: right;\">\n",
       "      <th></th>\n",
       "      <th>Name</th>\n",
       "      <th>Address</th>\n",
       "      <th>Email</th>\n",
       "      <th>Phone Number</th>\n",
       "      <th>Date</th>\n",
       "      <th>Salary</th>\n",
       "      <th>Company</th>\n",
       "      <th>Messy Text</th>\n",
       "    </tr>\n",
       "  </thead>\n",
       "  <tbody>\n",
       "    <tr>\n",
       "      <th>0</th>\n",
       "      <td>E****</td>\n",
       "      <td>**** Broadway,   New York,   NY</td>\n",
       "      <td>e*****@outlook.com</td>\n",
       "      <td>12******90</td>\n",
       "      <td>01-02-2024</td>\n",
       "      <td>500000.0</td>\n",
       "      <td>Facebook</td>\n",
       "      <td>Can yu pleas clarrify ur qustion?</td>\n",
       "    </tr>\n",
       "    <tr>\n",
       "      <th>1</th>\n",
       "      <td>J****</td>\n",
       "      <td>**** 1st,   Los Angeles,   CA</td>\n",
       "      <td>j*****@invalid</td>\n",
       "      <td>12******90</td>\n",
       "      <td>Feb 1, 2024</td>\n",
       "      <td>55000.0</td>\n",
       "      <td>Amazon Corp.</td>\n",
       "      <td>Can yu pleas clarrify ur qustion?</td>\n",
       "    </tr>\n",
       "    <tr>\n",
       "      <th>2</th>\n",
       "      <td>J****</td>\n",
       "      <td>**** Market,   Austin,   TX</td>\n",
       "      <td>j*****@gmail.com</td>\n",
       "      <td>12******90</td>\n",
       "      <td>1st Feb 2024</td>\n",
       "      <td>500000.0</td>\n",
       "      <td>Microsoft</td>\n",
       "      <td>Can yu pleas clarrify ur qustion?</td>\n",
       "    </tr>\n",
       "    <tr>\n",
       "      <th>3</th>\n",
       "      <td>E****</td>\n",
       "      <td>**** Elm,   Los Angeles,   CA</td>\n",
       "      <td>e*****@outlook.com</td>\n",
       "      <td>12******90</td>\n",
       "      <td>2024/02/01</td>\n",
       "      <td>150000.0</td>\n",
       "      <td>Apple</td>\n",
       "      <td>I lovee to wrk at google!</td>\n",
       "    </tr>\n",
       "    <tr>\n",
       "      <th>4</th>\n",
       "      <td>J****</td>\n",
       "      <td>**** Broadway,   Austin,   TX</td>\n",
       "      <td>j*****@outlook.com</td>\n",
       "      <td>12******90</td>\n",
       "      <td>Feb 1, 2024</td>\n",
       "      <td>500000.0</td>\n",
       "      <td>Amazon</td>\n",
       "      <td>tesla is a great cmpany but I wud prefer Meta.</td>\n",
       "    </tr>\n",
       "  </tbody>\n",
       "</table>\n",
       "</div>"
      ],
      "text/plain": [
       "    Name                          Address               Email Phone Number  \\\n",
       "0  E****  **** Broadway,   New York,   NY  e*****@outlook.com   12******90   \n",
       "1  J****    **** 1st,   Los Angeles,   CA      j*****@invalid   12******90   \n",
       "2  J****      **** Market,   Austin,   TX    j*****@gmail.com   12******90   \n",
       "3  E****    **** Elm,   Los Angeles,   CA  e*****@outlook.com   12******90   \n",
       "4  J****    **** Broadway,   Austin,   TX  j*****@outlook.com   12******90   \n",
       "\n",
       "           Date    Salary       Company  \\\n",
       "0    01-02-2024  500000.0      Facebook   \n",
       "1   Feb 1, 2024   55000.0  Amazon Corp.   \n",
       "2  1st Feb 2024  500000.0     Microsoft   \n",
       "3    2024/02/01  150000.0         Apple   \n",
       "4   Feb 1, 2024  500000.0        Amazon   \n",
       "\n",
       "                                       Messy Text  \n",
       "0               Can yu pleas clarrify ur qustion?  \n",
       "1               Can yu pleas clarrify ur qustion?  \n",
       "2               Can yu pleas clarrify ur qustion?  \n",
       "3                       I lovee to wrk at google!  \n",
       "4  tesla is a great cmpany but I wud prefer Meta.  "
      ]
     },
     "execution_count": 113,
     "metadata": {},
     "output_type": "execute_result"
    }
   ],
   "source": [
    "df.head()"
   ]
  },
  {
   "cell_type": "code",
   "execution_count": null,
   "metadata": {},
   "outputs": [],
   "source": []
  }
 ],
 "metadata": {
  "kernelspec": {
   "display_name": "data-tool",
   "language": "python",
   "name": "python3"
  },
  "language_info": {
   "codemirror_mode": {
    "name": "ipython",
    "version": 3
   },
   "file_extension": ".py",
   "mimetype": "text/x-python",
   "name": "python",
   "nbconvert_exporter": "python",
   "pygments_lexer": "ipython3",
   "version": "3.11.11"
  }
 },
 "nbformat": 4,
 "nbformat_minor": 2
}
