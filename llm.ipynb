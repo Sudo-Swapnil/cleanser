{
 "cells": [
  {
   "cell_type": "code",
   "execution_count": 11,
   "metadata": {},
   "outputs": [],
   "source": [
    "import openai"
   ]
  },
  {
   "cell_type": "code",
   "execution_count": 43,
   "metadata": {},
   "outputs": [
    {
     "data": {
      "text/html": [
       "<div>\n",
       "<style scoped>\n",
       "    .dataframe tbody tr th:only-of-type {\n",
       "        vertical-align: middle;\n",
       "    }\n",
       "\n",
       "    .dataframe tbody tr th {\n",
       "        vertical-align: top;\n",
       "    }\n",
       "\n",
       "    .dataframe thead th {\n",
       "        text-align: right;\n",
       "    }\n",
       "</style>\n",
       "<table border=\"1\" class=\"dataframe\">\n",
       "  <thead>\n",
       "    <tr style=\"text-align: right;\">\n",
       "      <th></th>\n",
       "      <th>Name</th>\n",
       "      <th>Address</th>\n",
       "      <th>Email</th>\n",
       "      <th>Phone Number</th>\n",
       "      <th>Date</th>\n",
       "      <th>Salary</th>\n",
       "      <th>Company</th>\n",
       "      <th>Messy Text</th>\n",
       "    </tr>\n",
       "  </thead>\n",
       "  <tbody>\n",
       "    <tr>\n",
       "      <th>0</th>\n",
       "      <td>Emma Davis</td>\n",
       "      <td>327 Broadway, New York, NY</td>\n",
       "      <td>emmadavis83@outlook.com</td>\n",
       "      <td>123.456.7890</td>\n",
       "      <td>01-02-2024</td>\n",
       "      <td>500000.0</td>\n",
       "      <td>Facebook</td>\n",
       "      <td>Can yu pleas clarrify ur qustion?</td>\n",
       "    </tr>\n",
       "    <tr>\n",
       "      <th>1</th>\n",
       "      <td>John Doe</td>\n",
       "      <td>927 1st Ave, Los Angeles, CA</td>\n",
       "      <td>johndoe54@invalid</td>\n",
       "      <td>123-456-7890</td>\n",
       "      <td>Feb 1, 2024</td>\n",
       "      <td>55000.0</td>\n",
       "      <td>Amazon Corp.</td>\n",
       "      <td>Can yu pleas clarrify ur qustion?</td>\n",
       "    </tr>\n",
       "    <tr>\n",
       "      <th>2</th>\n",
       "      <td>John Doe</td>\n",
       "      <td>354 Market St, Austin, TX</td>\n",
       "      <td>johndoe44@gmail.com</td>\n",
       "      <td>123-456-7890</td>\n",
       "      <td>1st Feb 2024</td>\n",
       "      <td>500000.0</td>\n",
       "      <td>Microsoft</td>\n",
       "      <td>Can yu pleas clarrify ur qustion?</td>\n",
       "    </tr>\n",
       "    <tr>\n",
       "      <th>3</th>\n",
       "      <td>Emily Johnson</td>\n",
       "      <td>112 Elm St, Los Angeles, CA</td>\n",
       "      <td>emilyjohnson14@outlook.com</td>\n",
       "      <td>(123) 456-7890</td>\n",
       "      <td>2024/02/01</td>\n",
       "      <td>150000.0</td>\n",
       "      <td>Apple</td>\n",
       "      <td>I lovee to wrk at google!</td>\n",
       "    </tr>\n",
       "    <tr>\n",
       "      <th>4</th>\n",
       "      <td>James White</td>\n",
       "      <td>337 Broadway, Austin, TX</td>\n",
       "      <td>jameswhite82@outlook.com</td>\n",
       "      <td>(123) 456-7890</td>\n",
       "      <td>Feb 1, 2024</td>\n",
       "      <td>500000.0</td>\n",
       "      <td>Amazon</td>\n",
       "      <td>tesla is a great cmpany but I wud prefer Meta.</td>\n",
       "    </tr>\n",
       "  </tbody>\n",
       "</table>\n",
       "</div>"
      ],
      "text/plain": [
       "            Name                       Address                       Email  \\\n",
       "0     Emma Davis    327 Broadway, New York, NY     emmadavis83@outlook.com   \n",
       "1       John Doe  927 1st Ave, Los Angeles, CA           johndoe54@invalid   \n",
       "2       John Doe     354 Market St, Austin, TX         johndoe44@gmail.com   \n",
       "3  Emily Johnson   112 Elm St, Los Angeles, CA  emilyjohnson14@outlook.com   \n",
       "4    James White      337 Broadway, Austin, TX    jameswhite82@outlook.com   \n",
       "\n",
       "     Phone Number          Date    Salary       Company  \\\n",
       "0    123.456.7890    01-02-2024  500000.0      Facebook   \n",
       "1    123-456-7890   Feb 1, 2024   55000.0  Amazon Corp.   \n",
       "2    123-456-7890  1st Feb 2024  500000.0     Microsoft   \n",
       "3  (123) 456-7890    2024/02/01  150000.0         Apple   \n",
       "4  (123) 456-7890   Feb 1, 2024  500000.0        Amazon   \n",
       "\n",
       "                                       Messy Text  \n",
       "0               Can yu pleas clarrify ur qustion?  \n",
       "1               Can yu pleas clarrify ur qustion?  \n",
       "2               Can yu pleas clarrify ur qustion?  \n",
       "3                       I lovee to wrk at google!  \n",
       "4  tesla is a great cmpany but I wud prefer Meta.  "
      ]
     },
     "execution_count": 43,
     "metadata": {},
     "output_type": "execute_result"
    }
   ],
   "source": [
    "import pandas as pd\n",
    "\n",
    "df = pd.read_csv(\"synthetic_data.csv\")\n",
    "\n",
    "df = df.map(lambda x: x.strip() if isinstance(x, str) else x)\n",
    "df.drop_duplicates(inplace=True)\n",
    "df = df.head()\n",
    "df.head()"
   ]
  },
  {
   "cell_type": "code",
   "execution_count": 10,
   "metadata": {},
   "outputs": [],
   "source": [
    "df['Date'] = pd.to_datetime(df['Date'], errors='coerce')"
   ]
  },
  {
   "cell_type": "code",
   "execution_count": null,
   "metadata": {},
   "outputs": [],
   "source": [
    "def resolve_entity(text):\n",
    "    prompt = f\"Resolve entity variations to a standardized form: {text}\"\n",
    "    response = openai.ChatCompletion.create(\n",
    "        model=\"gpt-4o-mini\",\n",
    "        messages=[{\"role\": \"system\", \"content\": prompt}]\n",
    "    )\n",
    "    return response[\"choices\"][0][\"message\"][\"content\"]\n",
    "\n",
    "df['standardized_company'] = df['company_name'].apply(resolve_entity)\n"
   ]
  },
  {
   "cell_type": "code",
   "execution_count": 50,
   "metadata": {},
   "outputs": [],
   "source": [
    "from dotenv import load_dotenv\n",
    "\n",
    "load_dotenv()\n",
    "\n",
    "import os\n",
    "from openai import OpenAI\n",
    "client = OpenAI(api_key=os.environ.get(\"OPENAI_API_KEY\"))"
   ]
  },
  {
   "cell_type": "code",
   "execution_count": 38,
   "metadata": {},
   "outputs": [],
   "source": [
    "column_name = \"company\"\n",
    "column_information = \"name of the company\"\n",
    "\n",
    "text = \"nvidia corp\"\n",
    "# text = \"Bajaj allimc\""
   ]
  },
  {
   "cell_type": "code",
   "execution_count": null,
   "metadata": {},
   "outputs": [],
   "source": [
    "prompt = f\"\"\"I am giving you text field from the column titled {column_name}. \n",
    "            It contains inform about {column_information} \n",
    "            Resolve it to to a standardized form but do not modify if you are not sure of the format\n",
    "            for the specific data: {text}. \n",
    "            Give no preambles, just the result.\"\"\"\n",
    "response = client.chat.completions.create(\n",
    "    model=\"gpt-4o-mini\",\n",
    "    messages=[\n",
    "        {\n",
    "            \"role\": \"system\",\n",
    "            \"content\": prompt\n",
    "        }\n",
    "    ]\n",
    ")"
   ]
  },
  {
   "cell_type": "code",
   "execution_count": 40,
   "metadata": {},
   "outputs": [
    {
     "data": {
      "text/plain": [
       "'Nvidia Corporation'"
      ]
     },
     "execution_count": 40,
     "metadata": {},
     "output_type": "execute_result"
    }
   ],
   "source": [
    "response.choices[0].message.content"
   ]
  },
  {
   "cell_type": "code",
   "execution_count": 32,
   "metadata": {},
   "outputs": [
    {
     "data": {
      "text/plain": [
       "'Swapnil Financials'"
      ]
     },
     "execution_count": 32,
     "metadata": {},
     "output_type": "execute_result"
    }
   ],
   "source": [
    "response.choices[0].message.content"
   ]
  },
  {
   "cell_type": "code",
   "execution_count": 46,
   "metadata": {},
   "outputs": [],
   "source": [
    "def standardize_column(text, column_name, column_information):\n",
    "    prompt = f\"\"\"I am giving you text field from the column titled {column_name}. \n",
    "                It contains inform about {column_information} \n",
    "                Resolve it to to a standardized form but do not modify if you are not sure of the format\n",
    "                for the specific data: {text}. \n",
    "                Give no preambles, just the result.\"\"\"\n",
    "    response = client.chat.completions.create(\n",
    "        model=\"gpt-4o-mini\",\n",
    "        messages=[\n",
    "            {\n",
    "                \"role\": \"system\",\n",
    "                \"content\": prompt\n",
    "            }\n",
    "        ]   \n",
    "    )\n",
    "    return response.choices[0].message.content"
   ]
  },
  {
   "cell_type": "code",
   "execution_count": 47,
   "metadata": {},
   "outputs": [],
   "source": [
    "column_name = \"company\"\n",
    "column_information = \"name of the company\"\n",
    "df['standardized_company'] = df['Company'].apply(standardize_column, args=(column_name, column_information))"
   ]
  },
  {
   "cell_type": "code",
   "execution_count": 48,
   "metadata": {},
   "outputs": [
    {
     "data": {
      "text/plain": [
       "0           Facebook, Inc.\n",
       "1       Amazon Corporation\n",
       "2    Microsoft Corporation\n",
       "3               Apple Inc.\n",
       "4                   Amazon\n",
       "Name: standardized_company, dtype: object"
      ]
     },
     "execution_count": 48,
     "metadata": {},
     "output_type": "execute_result"
    }
   ],
   "source": [
    "df['standardized_company']"
   ]
  },
  {
   "cell_type": "code",
   "execution_count": 49,
   "metadata": {},
   "outputs": [
    {
     "data": {
      "text/plain": [
       "0        Facebook\n",
       "1    Amazon Corp.\n",
       "2       Microsoft\n",
       "3           Apple\n",
       "4          Amazon\n",
       "Name: Company, dtype: object"
      ]
     },
     "execution_count": 49,
     "metadata": {},
     "output_type": "execute_result"
    }
   ],
   "source": [
    "df['Company']"
   ]
  },
  {
   "cell_type": "code",
   "execution_count": null,
   "metadata": {},
   "outputs": [],
   "source": []
  }
 ],
 "metadata": {
  "kernelspec": {
   "display_name": "data-tool",
   "language": "python",
   "name": "python3"
  },
  "language_info": {
   "codemirror_mode": {
    "name": "ipython",
    "version": 3
   },
   "file_extension": ".py",
   "mimetype": "text/x-python",
   "name": "python",
   "nbconvert_exporter": "python",
   "pygments_lexer": "ipython3",
   "version": "3.11.11"
  }
 },
 "nbformat": 4,
 "nbformat_minor": 2
}
